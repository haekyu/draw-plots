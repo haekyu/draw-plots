{
 "cells": [
  {
   "cell_type": "markdown",
   "metadata": {},
   "source": [
    "### Read data"
   ]
  },
  {
   "cell_type": "code",
   "execution_count": 5,
   "metadata": {
    "collapsed": false
   },
   "outputs": [],
   "source": [
    "# Read clusters\n",
    "def get_cluster(filename):\n",
    "    # Read file\n",
    "    f = open(filename)\n",
    "    lines = f.readlines()\n",
    "    f.close()\n",
    "    \n",
    "    # Parse the lines and complete the cluster dictionary\n",
    "    cluster_dict = dict()\n",
    "    for line in lines:\n",
    "        # Read cluster info\n",
    "        dat = line.split()\n",
    "        user, cluster = dat[0], dat[1]\n",
    "        \n",
    "        # Complete the cluster dictionary\n",
    "        if cluster not in cluster_dict:\n",
    "            cluster_dict[cluster] = []\n",
    "        cluster_dict[cluster].append(user)\n",
    "    \n",
    "    return cluster_dict"
   ]
  },
  {
   "cell_type": "code",
   "execution_count": 6,
   "metadata": {
    "collapsed": true
   },
   "outputs": [],
   "source": [
    "# Read watch histories\n",
    "def get_watch_histories(filename):\n",
    "    # Read file\n",
    "    f = open(filename)\n",
    "    lines = f.readlines()\n",
    "    f.close()\n",
    "    \n",
    "    # Parse the lines and complete watch history dict\n",
    "    watch_history_dict = dict()\n",
    "    for line in lines:\n",
    "        # Read watch history info\n",
    "        dat = line.split()\n",
    "        user, histories = dat[0], dat[1:]\n",
    "        \n",
    "        # Complete watch history dict\n",
    "        watch_history_dict[user] = histories\n",
    "    \n",
    "    return watch_history_dict"
   ]
  },
  {
   "cell_type": "code",
   "execution_count": 7,
   "metadata": {
    "collapsed": true
   },
   "outputs": [],
   "source": [
    "# Read title info\n",
    "def get_title(filename):\n",
    "    # Read file\n",
    "    f = open(filename)\n",
    "    lines = f.readlines()\n",
    "    f.close()\n",
    "    \n",
    "    # Parse the lines and complete title dict\n",
    "    title_dict = dict()\n",
    "    for line in lines:\n",
    "        # Read title info\n",
    "        dat = line.split('\\t')\n",
    "        vid, title = dat[0], dat[1][:-1]\n",
    "        \n",
    "        # Complete title_dict\n",
    "        title_dict[vid] = title\n",
    "    \n",
    "    return title_dict"
   ]
  },
  {
   "cell_type": "code",
   "execution_count": null,
   "metadata": {
    "collapsed": true
   },
   "outputs": [],
   "source": [
    "# Read demographic data\n",
    "def get_user_demo(filename):\n",
    "    f = open(filename)\n",
    "    lines = f.readlines()\n",
    "    f.close()\n",
    "    \n",
    "    demo_dict = dict()\n",
    "    for line in lines:\n",
    "        dat = line.split()\n",
    "        user, demo = dat[0], dat[1:]\n",
    "        demo\n",
    "        "
   ]
  },
  {
   "cell_type": "markdown",
   "metadata": {},
   "source": [
    "### Get watch histories of members in a cluster"
   ]
  },
  {
   "cell_type": "code",
   "execution_count": 17,
   "metadata": {
    "collapsed": true
   },
   "outputs": [],
   "source": [
    "def vid_to_title_lst(vidlst, title_dict):\n",
    "    title_lst = []\n",
    "    for vid in vidlst:\n",
    "        title_lst.append(title_dict[vid])\n",
    "    return title_lst\n",
    "\n",
    "        \n",
    "def get_watch_histories_of_clusters(cluster_dict, watch_history_dict, title_dict):\n",
    "    # For all clusters\n",
    "    cluster_watch_dict = dict()\n",
    "    \n",
    "    for cluster in cluster_dict:\n",
    "        # Get users in a cluster\n",
    "        cluster_users = cluster_dict[cluster]\n",
    "        \n",
    "        # Get users' watch histories\n",
    "        user_watch_dict = dict()\n",
    "        for user in cluster_users:\n",
    "            user_watches = watch_history_dict[user]\n",
    "            user_titles = vid_to_title_lst(user_watches, title_dict)\n",
    "            user_watch_dict[user] = user_titles\n",
    "            \n",
    "        # Complete cluster_watch_dict\n",
    "        cluster_watch_dict[cluster] = user_watch_dict\n",
    "    \n",
    "    return cluster_watch_dict"
   ]
  },
  {
   "cell_type": "markdown",
   "metadata": {},
   "source": [
    "### Save the cluster watch dict into tsv files"
   ]
  },
  {
   "cell_type": "code",
   "execution_count": 26,
   "metadata": {
    "collapsed": true
   },
   "outputs": [],
   "source": [
    "def save_watch_histories_of_clusters(cluster_watch_dict, filename):\n",
    "    f = open(filename, 'w', encoding='utf8')\n",
    "    for cluster in cluster_watch_dict:\n",
    "        # Print cluster\n",
    "        f.write('cluster: %s\\n' % cluster)\n",
    "        \n",
    "        # Print index info\n",
    "        f.write('user-id\\twatch-histories')\n",
    "        \n",
    "        # Print watch histories of users in the cluster\n",
    "        users_watch_dict = cluster_watch_dict[cluster]\n",
    "        for user in users_watch_dict:\n",
    "            # Print user\n",
    "            f.write('%s\\t' % user)\n",
    "            \n",
    "            # Print watch histories\n",
    "            for title in users_watch_dict[user]:\n",
    "                f.write('%s\\t' % title)\n",
    "            f.write('\\n')\n",
    "    f.close()"
   ]
  },
  {
   "cell_type": "code",
   "execution_count": 25,
   "metadata": {
    "collapsed": false
   },
   "outputs": [
    {
     "name": "stdout",
     "output_type": "stream",
     "text": [
      "clusters-2860.tsv: 6.66 sec\n",
      "clusters-11687.tsv: 11.23 sec\n",
      "clusters-29723.tsv: 4.31 sec\n",
      "clusters-6496.tsv: 5.70 sec\n",
      "clusters-18435.tsv: 5.13 sec\n",
      "clusters-38742.tsv: 3.16 sec\n"
     ]
    }
   ],
   "source": [
    "dirname = '/Users/haekyu/Downloads/oksusu-cluster/'\n",
    "watch_history_dict = get_watch_histories(dirname + 'data/watch-histories.tsv')\n",
    "title_dict = get_title(dirname + 'data/titles.tsv')\n",
    "\n",
    "filenames = ['clusters-2860.tsv', 'clusters-11687.tsv', 'clusters-29723.tsv', 'clusters-6496.tsv', 'clusters-18435.tsv', 'clusters-38742.tsv']\n",
    "from time import time\n",
    "for filename in filenames:\n",
    "    print(filename, end='')\n",
    "    start = time()\n",
    "    cluster_dict = get_cluster(dirname + 'data/' + filename)\n",
    "    cluster_watch_dict = get_watch_histories_of_clusters(cluster_dict, watch_history_dict, title_dict)\n",
    "    save_watch_histories_of_clusters(cluster_watch_dict, dirname + 'watches-' + filename)\n",
    "    print(': %.2lf sec' % (time() - start))\n"
   ]
  },
  {
   "cell_type": "code",
   "execution_count": 18,
   "metadata": {
    "collapsed": false
   },
   "outputs": [],
   "source": []
  },
  {
   "cell_type": "code",
   "execution_count": 22,
   "metadata": {
    "collapsed": false
   },
   "outputs": [],
   "source": []
  },
  {
   "cell_type": "code",
   "execution_count": null,
   "metadata": {
    "collapsed": true
   },
   "outputs": [],
   "source": []
  }
 ],
 "metadata": {
  "anaconda-cloud": {},
  "kernelspec": {
   "display_name": "Python [conda root]",
   "language": "python",
   "name": "conda-root-py"
  },
  "language_info": {
   "codemirror_mode": {
    "name": "ipython",
    "version": 3
   },
   "file_extension": ".py",
   "mimetype": "text/x-python",
   "name": "python",
   "nbconvert_exporter": "python",
   "pygments_lexer": "ipython3",
   "version": "3.5.2"
  }
 },
 "nbformat": 4,
 "nbformat_minor": 2
}
